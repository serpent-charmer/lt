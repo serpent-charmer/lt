{
 "cells": [
  {
   "cell_type": "markdown",
   "metadata": {},
   "source": [
    "# **Использование абстракция для решения задач**"
   ]
  },
  {
   "cell_type": "markdown",
   "metadata": {},
   "source": [
    "Решим простую задачу о повороте треугольника ABC с использованием следующих перестановок:  \n",
    "a = (A B C -> B C A)  \n",
    "b = (A B C -> C A B)  \n",
    "e = (A B C -> A B C),  \n",
    "где A, B, C - вершины треугольника ABC.  \n",
    "Нужно составить таблицу, где пересечением элементов является результат перемножения перестановок.  \n",
    "\n",
    "\n",
    "|   | e  | a  | b  |\n",
    "| --|:--:| :--:| :--:|\n",
    "| e |     |    |    |\n",
    "| a |     |    |  e |\n",
    "| b |     |    |    |"
   ]
  },
  {
   "cell_type": "markdown",
   "metadata": {},
   "source": [
    "[Что такое перестановки и как их перемножать](http://halgebra.math.msu.su/wiki/lib/exe/fetch.php/permutations.pdf)."
   ]
  },
  {
   "cell_type": "markdown",
   "metadata": {},
   "source": [
    "В начале обозначим наши вершины и перестановки, как перечисление и функции соответственно."
   ]
  },
  {
   "cell_type": "code",
   "execution_count": 1,
   "metadata": {},
   "outputs": [],
   "source": [
    "from enum import Enum\n",
    "class Points(Enum):\n",
    "    A = 1\n",
    "    B = 2\n",
    "    C = 3\n",
    "globals().update(Points.__members__)"
   ]
  },
  {
   "cell_type": "code",
   "execution_count": 2,
   "metadata": {},
   "outputs": [],
   "source": [
    "def a(a, b, c): return b, c, a\n",
    "def b(a, b, c): return c, a, b\n",
    "def e(a, b, c): return a, b, c"
   ]
  },
  {
   "cell_type": "code",
   "execution_count": 3,
   "metadata": {},
   "outputs": [],
   "source": [
    "permuts1 = [e, a, b]"
   ]
  },
  {
   "cell_type": "code",
   "execution_count": 4,
   "metadata": {},
   "outputs": [
    {
     "name": "stdout",
     "output_type": "stream",
     "text": [
      "e a b \n",
      "a b e \n",
      "b e a \n"
     ]
    }
   ],
   "source": [
    "for p in permuts1:\n",
    "    for p1 in permuts1:\n",
    "        rs = p(*p1(A, B, C))\n",
    "        print(#p.__name__, '*', p1.__name__ , '=', \n",
    "              'a' if rs == a(A,B,C) else '', \n",
    "              'b' if rs == b(A,B,C) else '', \n",
    "              'e' if rs == e(A,B,C) else '', \n",
    "              sep='', end=' ')\n",
    "    print()"
   ]
  },
  {
   "cell_type": "code",
   "execution_count": 5,
   "metadata": {},
   "outputs": [],
   "source": [
    "def c(a, b, c): return a, c, b\n",
    "def d(a, b, c): return c, b, a\n",
    "def f(a, b, c): return b, a, c"
   ]
  },
  {
   "cell_type": "code",
   "execution_count": 6,
   "metadata": {},
   "outputs": [],
   "source": [
    "permuts2 = [e, a, b, c, d, f]"
   ]
  },
  {
   "cell_type": "code",
   "execution_count": 7,
   "metadata": {},
   "outputs": [
    {
     "name": "stdout",
     "output_type": "stream",
     "text": [
      "e a b c d f \n",
      "a b e f c d \n",
      "b e a d f c \n",
      "c d f e a b \n",
      "d f c b e a \n",
      "f c d a b e \n"
     ]
    }
   ],
   "source": [
    "for p in permuts2:\n",
    "    for p1 in permuts2:\n",
    "        rs = p1(*p(A, B, C))\n",
    "        print(#p.__name__, '*', p1.__name__ , '=', \n",
    "              'a' if rs == a(A,B,C) else '', \n",
    "              'b' if rs == b(A,B,C) else '', \n",
    "              'c' if rs == c(A,B,C) else '', \n",
    "              'd' if rs == d(A,B,C) else '', \n",
    "              'f' if rs == f(A,B,C) else '', \n",
    "              'e' if rs == e(A,B,C) else '', \n",
    "              sep='', end=' ')\n",
    "    print()"
   ]
  },
  {
   "cell_type": "markdown",
   "metadata": {},
   "source": [
    "Однако раскрывать кортеж не всегда удобно, особенно, если нужно перестановок много, попробуем использовать декоратор."
   ]
  },
  {
   "cell_type": "code",
   "execution_count": 8,
   "metadata": {},
   "outputs": [
    {
     "data": {
      "text/plain": [
       "True"
      ]
     },
     "execution_count": 8,
     "metadata": {},
     "output_type": "execute_result"
    }
   ],
   "source": [
    "from functools import wraps\n",
    "\n",
    "def a_w(p):\n",
    "    @wraps(p)\n",
    "    def wrapper(a, b, c):\n",
    "         return p(b, c, a)\n",
    "    return wrapper\n",
    "\n",
    "def b_w(p):\n",
    "    @wraps(p)\n",
    "    def wrapper(a, b, c):\n",
    "         return p(c, a, b)\n",
    "    return wrapper\n",
    "\n",
    "\n",
    "def e_w(p):\n",
    "    @wraps(p)\n",
    "    def wrapper(a, b, c):\n",
    "         return p(a, b, c)\n",
    "    return wrapper\n",
    "\n",
    "b(A, B, C) == e_w(b)(A, B, C)"
   ]
  },
  {
   "cell_type": "markdown",
   "metadata": {},
   "source": [
    "Заметим, что при увеличении количества перемножений чтение кода все равно затрудняется"
   ]
  },
  {
   "cell_type": "code",
   "execution_count": 9,
   "metadata": {},
   "outputs": [
    {
     "data": {
      "text/plain": [
       "True"
      ]
     },
     "execution_count": 9,
     "metadata": {},
     "output_type": "execute_result"
    }
   ],
   "source": [
    "a_w(e_w(b_w(b)))(A, B, C) == a_w(a)(A, B, C)"
   ]
  },
  {
   "cell_type": "markdown",
   "metadata": {},
   "source": [
    "Добавим немножко ООП и перегруженных операторов:"
   ]
  },
  {
   "cell_type": "code",
   "execution_count": 10,
   "metadata": {},
   "outputs": [],
   "source": [
    "class Permutation:\n",
    "    \n",
    "    def __init__(self, p):\n",
    "        self.p = p\n",
    "    \n",
    "    def __mul__(self, rhs):\n",
    "        if type(self) == Permutation:\n",
    "            lhsp = self.p\n",
    "        if type(rhs) == Permutation:\n",
    "            rhsp = rhs.p\n",
    "        \n",
    "        def wrapper(a, b, c):\n",
    "            return rhsp(*lhsp(a, b, c))\n",
    "        \n",
    "        np = Permutation(wrapper)\n",
    "        \n",
    "        return np\n",
    "        \n",
    "    def __call__(self, *args):\n",
    "        return self.p(*args)\n",
    "    \n",
    "    def __eq__(self, rhs):\n",
    "        return self.p(A, B, C) == rhs(A, B, C)\n",
    "        \n",
    "a = Permutation(lambda a, b, c: (b, c, a))\n",
    "b = Permutation(lambda a, b, c: (c, a, b))\n",
    "e = Permutation(lambda a, b, c: (a, b, c))"
   ]
  },
  {
   "cell_type": "code",
   "execution_count": 11,
   "metadata": {},
   "outputs": [
    {
     "data": {
      "text/plain": [
       "False"
      ]
     },
     "execution_count": 11,
     "metadata": {},
     "output_type": "execute_result"
    }
   ],
   "source": [
    "a == e"
   ]
  },
  {
   "cell_type": "markdown",
   "metadata": {},
   "source": [
    "С помощью оператора __eq__ мы даже можем узнать равны ли перестановки друг другу:"
   ]
  },
  {
   "cell_type": "code",
   "execution_count": 12,
   "metadata": {},
   "outputs": [
    {
     "data": {
      "text/plain": [
       "True"
      ]
     },
     "execution_count": 12,
     "metadata": {},
     "output_type": "execute_result"
    }
   ],
   "source": [
    "a*a == b"
   ]
  }
 ],
 "metadata": {
  "kernelspec": {
   "display_name": "Python 3",
   "language": "python",
   "name": "python3"
  },
  "language_info": {
   "codemirror_mode": {
    "name": "ipython",
    "version": 3
   },
   "file_extension": ".py",
   "mimetype": "text/x-python",
   "name": "python",
   "nbconvert_exporter": "python",
   "pygments_lexer": "ipython3",
   "version": "3.7.7"
  }
 },
 "nbformat": 4,
 "nbformat_minor": 4
}
