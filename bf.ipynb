{
 "cells": [
  {
   "cell_type": "markdown",
   "metadata": {},
   "source": [
    "# **Интерпретатор bf**\n",
    "Можете попробовать сделать его сами, а потом поделиться результатами.  \n",
    "[Что такое bf.](http://ru.wikipedia.org/wiki/Brainfuck)"
   ]
  },
  {
   "cell_type": "code",
   "execution_count": 1,
   "metadata": {},
   "outputs": [],
   "source": [
    "from enum import Enum\n",
    "    \n",
    "class Ops(Enum):\n",
    "    SHIFT_L = 1\n",
    "    SHIFT_R = 2\n",
    "    PLUS = 3\n",
    "    MINUS = 4\n",
    "    LABEL = 5\n",
    "    GOTO = 6\n",
    "    PRNT = 7\n",
    "    INPT = 8\n",
    "    EMPTY = 9"
   ]
  },
  {
   "cell_type": "code",
   "execution_count": 2,
   "metadata": {},
   "outputs": [],
   "source": [
    "class Cells:\n",
    "    \n",
    "    n = 32_768\n",
    "    \n",
    "    max_val = 128\n",
    "    \n",
    "    def __init__(self):\n",
    "        self.cells = [ 0 for i in range(self.n) ]\n",
    "        self.pointer = 0\n",
    "    \n",
    "    def pointer_zero(self):\n",
    "        return self.cells[self.pointer] == 0\n",
    "    \n",
    "    def pointer_not_zero(self):\n",
    "        return self.cells[self.pointer] != 0\n",
    "    \n",
    "    def shift_r(self):\n",
    "        self.pointer += 1\n",
    "    \n",
    "    def shift_l(self):\n",
    "        self.pointer -= 1\n",
    "\n",
    "    def plus(self):\n",
    "        val = self.cells[self.pointer]\n",
    "        if val >= self.max_val:\n",
    "            self.cells[self.pointer] = -(self.max_val-1)\n",
    "        else:\n",
    "            self.cells[self.pointer] += 1\n",
    "        \n",
    "       \n",
    "    def minus(self):\n",
    "        val = self.cells[self.pointer]\n",
    "        if val <= -self.max_val:\n",
    "            self.cells[self.pointer] = (self.max_val-1)\n",
    "        else:\n",
    "            self.cells[self.pointer] -= 1\n",
    "       \n",
    "    def inpt(self):\n",
    "        val = input(\"bf:>\")\n",
    "        self.cells[self.pointer] = int(val)\n",
    "    \n",
    "    def prnt(self):\n",
    "        return self.cells[self.pointer]\n",
    "    \n",
    "    def reset(self):\n",
    "        del self.cells\n",
    "        self.cells = [0 for i in range(self.n)]\n",
    "        self.pointer = 0"
   ]
  },
  {
   "cell_type": "code",
   "execution_count": 3,
   "metadata": {},
   "outputs": [],
   "source": [
    "class SCycle:\n",
    "    \n",
    "    idx = 0\n",
    "    goto = 0\n",
    "        \n",
    "class ECycle:\n",
    "    \n",
    "    goto = 0"
   ]
  },
  {
   "cell_type": "code",
   "execution_count": 4,
   "metadata": {},
   "outputs": [],
   "source": [
    "actions = {\n",
    "    Ops.PLUS : lambda tape : (tape.plus(), None),\n",
    "    Ops.MINUS : lambda tape : (tape.minus(), None),\n",
    "    Ops.SHIFT_R : lambda tape : (tape.shift_r(), None),\n",
    "    Ops.SHIFT_L : lambda tape : (tape.shift_l(), None),\n",
    "    Ops.INPT : lambda tape : (tape.inpt(), None),\n",
    "    Ops.PRNT : lambda tape : (tape.prnt(), None),\n",
    "    Ops.LABEL : lambda label : lambda tape : (None, label) if tape.pointer_zero() else (None, None),\n",
    "    Ops.GOTO : lambda label : lambda tape : (None, label) if tape.pointer_not_zero() else (None, None),\n",
    "}"
   ]
  },
  {
   "cell_type": "code",
   "execution_count": 5,
   "metadata": {},
   "outputs": [],
   "source": [
    "grammar = {\n",
    "    '+' : Ops.PLUS,\n",
    "    '-' : Ops.MINUS,\n",
    "    '>' : Ops.SHIFT_R,\n",
    "    '<' : Ops.SHIFT_L,\n",
    "    ',' : Ops.INPT,\n",
    "    '.' : Ops.PRNT,\n",
    "    '[' : Ops.LABEL,\n",
    "    ']' : Ops.GOTO,\n",
    "}\n",
    "\n",
    "def bf_token(mc):\n",
    "    return grammar.get(mc)\n",
    "\n",
    "def bf_parse(s):\n",
    "    return list(filter(lambda x : x in grammar, s))"
   ]
  },
  {
   "cell_type": "code",
   "execution_count": 6,
   "metadata": {},
   "outputs": [],
   "source": [
    "def bf_read(tokens):\n",
    "    \n",
    "    tape = []\n",
    "    \n",
    "    cycles = []\n",
    "    \n",
    "    for idx,i in enumerate(tokens):\n",
    "        \n",
    "        token = bf_token(i)\n",
    "        \n",
    "        if i == '[':\n",
    "            sc = SCycle()\n",
    "            sc.idx = idx\n",
    "            cycles.append(sc)\n",
    "            \n",
    "            tape.append((token, None))\n",
    "            \n",
    "            continue\n",
    "            \n",
    "        elif i == ']':\n",
    "            \n",
    "            sc = cycles.pop()\n",
    "            ec = ECycle()\n",
    "            ec.goto = sc.idx\n",
    "            sc.goto = idx\n",
    "                \n",
    "            tape[ec.goto] = (sc.idx, Ops.LABEL, actions[Ops.LABEL](idx), sc.goto)\n",
    "            tape.append((idx, token, actions[token](ec.goto), ec.goto))\n",
    "            \n",
    "            continue\n",
    "        \n",
    "        tape.append((idx, token, actions[token]))\n",
    "    \n",
    "    return tape"
   ]
  },
  {
   "cell_type": "code",
   "execution_count": 7,
   "metadata": {},
   "outputs": [],
   "source": [
    "def bf_run(tape, instructions):\n",
    "    \n",
    "    pointer = 0\n",
    "    \n",
    "    while pointer < len(instructions):\n",
    "        \n",
    "        num, token, instruction, *_ = instructions[pointer]\n",
    "        \n",
    "        val, label = instruction(tape)\n",
    "                \n",
    "        if val:\n",
    "            yield val\n",
    "        elif label:\n",
    "            pointer = label\n",
    "            continue\n",
    "        pointer += 1"
   ]
  },
  {
   "cell_type": "code",
   "execution_count": 8,
   "metadata": {},
   "outputs": [],
   "source": [
    "prog = '''\n",
    ">>>>>,>++<<<<<<>[-]>[-]>[-]>[-]>[<<<<+>>>>-]<<<<[>>>>>[\n",
    "<<<<+>+>>>-]<<<[>>>+<<<-]<[>+<<-[>>[-]>+<<<-]>>>[<<<+>>\n",
    ">-]<[<-[>>>-<<<[-]]+>-]<-]>>>+<<<<]>>>>>>+<<>>>+++++++[\n",
    ">+++++<-]>---<<<<>>>+++++++[>>++++++<<-]<<<>>>++++++++++\n",
    "<<<[->>>>>>+>+>>>>>>>>>+<<<<<<<<<<<<<<<<]>>[->>>>>>>+<<\n",
    "<<<<<]>>>>+[>[->+>>>+>>+<<<<<<]>>[->+>>+<<<]>>[-<<<<<<<\n",
    ".>>>>>>>]>[-<<<<<<<.>>>>>>>]>[-<<<<<<<<<.>>>>>>>>>]<<<<\n",
    "<<<<<<.>>>>>>>>>><<<<<[-<+>]<->>>[-<+>]<++<<<-]>>>>>>>>\n",
    ">>-[<<<<<<<<<<<<.>>>>>>>>>>>>-]<<<<<<<<<<<...\n",
    "\n",
    "'''"
   ]
  },
  {
   "cell_type": "code",
   "execution_count": 9,
   "metadata": {},
   "outputs": [],
   "source": [
    "quine = '''\n",
    "->+>+++>>+>++>+>+++>>+>++>>>+>+>+>++>+>>>>+++>+>>++>+>+++>>++>++>>+>>+>++>++>+>>>>+++>+>>>>++>++>>>>+>>++>+>+++>>>++>>++++++>>+>>++>+>>>>+++>>+++++>>+>+++>>>++>>++>>+>>++>+>+++>>>++>>+++++++++++++>>+>>++>+>+++>+>+++>>>++>>++++>>+>>++>+>>>>+++>>+++++>>>>++>>>>+>+>++>>+++>+>>>>+++>+>>>>+++>+>>>>+++>>++>++>+>+++>+>++>++>>>>>>++>+>+++>>>>>+++>>>++>+>+++>+>+>++>>>>>>++>>>+>>>++>+>>>>+++>+>>>+>>++>+>++++++++++++++++++>>>>+>+>>>+>>++>+>+++>>>++>>++++++++>>+>>++>+>>>>+++>>++++++>>>+>++>>+++>+>+>++>+>+++>>>>>+++>>>+>+>>++>+>+++>>>++>>++++++++>>+>>++>+>>>>+++>>++++>>+>+++>>>>>>++>+>+++>>+>++>>>>+>+>++>+>>>>+++>>+++>>>+[[->>+<<]<+]+++++[->+++++++++<]>.[+]>>[<<+++++++[->+++++++++<]>-.------------------->-[-<.<+>>]<[+]<+>>>]<<<[-[-[-[>>+<++++++[->+++++<]]>++++++++++++++<]>+++<]++++++[->+++++++<]>+<<<-[->>>++<<<]>[->>.<<]<<]\n",
    "'''"
   ]
  },
  {
   "cell_type": "code",
   "execution_count": 10,
   "metadata": {},
   "outputs": [],
   "source": [
    "prog1 = '''\n",
    ">++++[<++++++++>-]>++++++[<++++++++>-]<->>++++++++\n",
    "[<++++++++++++>-]<---->++++++++++>++++++++++[>+>+<\n",
    "<-]>>[<<+>>-]<[[>+>+<<-]>>[<<+>>-]<[<<<<<<.>>>>>>-\n",
    "]<[>+>+<<-]>>[<<+>>-]<<<[>>>+>+<<<<-]>>>>[<<<<+>>>\n",
    ">-]<<[>-<-]>+[<<<<<<.>.>>>>>-]<<<.>-]\n",
    "\n",
    "'''"
   ]
  },
  {
   "cell_type": "code",
   "execution_count": 11,
   "metadata": {},
   "outputs": [
    {
     "name": "stdin",
     "output_type": "stream",
     "text": [
      "bf:> 23\n"
     ]
    },
    {
     "name": "stdout",
     "output_type": "stream",
     "text": [
      "           *           \n",
      "          ***          \n",
      "         *****         \n",
      "        *******        \n",
      "       *********       \n",
      "      ***********      \n",
      "     *************     \n",
      "    ***************    \n",
      "   *****************   \n",
      "  *******************  \n",
      " ********************* \n",
      "***********************\n",
      "          ***"
     ]
    }
   ],
   "source": [
    "tape = Cells()\n",
    "\n",
    "tk = bf_parse(prog)\n",
    "instructions = bf_read(tk)\n",
    "for c in bf_run(tape, instructions):\n",
    "    print(chr(c), end='')"
   ]
  },
  {
   "cell_type": "markdown",
   "metadata": {},
   "source": [
    "# **С Наступающим!**"
   ]
  },
  {
   "cell_type": "markdown",
   "metadata": {},
   "source": [
    "###### "
   ]
  }
 ],
 "metadata": {
  "kernelspec": {
   "display_name": "Python 3",
   "language": "python",
   "name": "python3"
  },
  "language_info": {
   "codemirror_mode": {
    "name": "ipython",
    "version": 3
   },
   "file_extension": ".py",
   "mimetype": "text/x-python",
   "name": "python",
   "nbconvert_exporter": "python",
   "pygments_lexer": "ipython3",
   "version": "3.7.7"
  }
 },
 "nbformat": 4,
 "nbformat_minor": 4
}
